{
  "nbformat": 4,
  "nbformat_minor": 0,
  "metadata": {
    "colab": {
      "provenance": [],
      "authorship_tag": "ABX9TyND9aexaLPNyMD5EmkeXeDR",
      "include_colab_link": true
    },
    "kernelspec": {
      "name": "python3",
      "display_name": "Python 3"
    },
    "language_info": {
      "name": "python"
    }
  },
  "cells": [
    {
      "cell_type": "markdown",
      "metadata": {
        "id": "view-in-github",
        "colab_type": "text"
      },
      "source": [
        "<a href=\"https://colab.research.google.com/github/sayam-h069/2403A51L27_B51_PDS/blob/main/Lab%201.2.ipynb\" target=\"_parent\"><img src=\"https://colab.research.google.com/assets/colab-badge.svg\" alt=\"Open In Colab\"/></a>"
      ]
    },
    {
      "cell_type": "code",
      "execution_count": 2,
      "metadata": {
        "colab": {
          "base_uri": "https://localhost:8080/"
        },
        "id": "7xOYCyxIZ_ze",
        "outputId": "52162c75-1ed5-4759-947e-3a218392d594"
      },
      "outputs": [
        {
          "output_type": "stream",
          "name": "stdout",
          "text": [
            "Python Recursion Limit: 1000\n",
            "Enter a number to calculate factorial: 5\n",
            "\n",
            "Recursive Factorial Calculation:\n",
            "Recursive: 5! = 120\n",
            "\n",
            "Iterative Factorial Calculation:\n",
            "Iterative: 5! = 120\n",
            "\n",
            "Comparison check (Recursive == Iterative): True\n"
          ]
        }
      ],
      "source": [
        "import sys\n",
        "import math\n",
        "\n",
        "def recursive_factorial(n):\n",
        "    if n == 0 or n == 1:\n",
        "        return 1\n",
        "    return n * recursive_factorial(n - 1)\n",
        "\n",
        "def iterative_factorial(n):\n",
        "    result = 1\n",
        "    for i in range(1, n + 1):\n",
        "        result *= i\n",
        "    return result\n",
        "\n",
        "max_depth = sys.getrecursionlimit()\n",
        "print(f\"Python Recursion Limit: {max_depth}\")\n",
        "\n",
        "n = int(input(\"Enter a number to calculate factorial: \"))\n",
        "\n",
        "if n > 998:\n",
        "    print(\"Warning: n > 998 may cause RecursionError in Python!\")\n",
        "\n",
        "try:\n",
        "    print(\"\\nRecursive Factorial Calculation:\")\n",
        "    rec_result = recursive_factorial(n)\n",
        "    print(f\"Recursive: {n}! = {rec_result}\")\n",
        "except RecursionError:\n",
        "    print(\"RecursionError: Maximum recursion depth exceeded!\")\n",
        "\n",
        "print(\"\\nIterative Factorial Calculation:\")\n",
        "it_result = iterative_factorial(n)\n",
        "print(f\"Iterative: {n}! = {it_result}\")\n",
        "\n",
        "if n <= 20:\n",
        "    print(\"\\nComparison check (Recursive == Iterative):\", rec_result == it_result)\n",
        "else:\n",
        "    print(\"\\nComparison skipped for large n due to output size.\")\n"
      ]
    }
  ]
}