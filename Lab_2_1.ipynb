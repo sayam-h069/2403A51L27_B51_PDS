{
  "nbformat": 4,
  "nbformat_minor": 0,
  "metadata": {
    "colab": {
      "provenance": [],
      "authorship_tag": "ABX9TyO1YnWCzxJkvcubWXDEqS0g",
      "include_colab_link": true
    },
    "kernelspec": {
      "name": "python3",
      "display_name": "Python 3"
    },
    "language_info": {
      "name": "python"
    }
  },
  "cells": [
    {
      "cell_type": "markdown",
      "metadata": {
        "id": "view-in-github",
        "colab_type": "text"
      },
      "source": [
        "<a href=\"https://colab.research.google.com/github/sayam-h069/2403A51L27_B51_PDS/blob/main/Lab_2_1.ipynb\" target=\"_parent\"><img src=\"https://colab.research.google.com/assets/colab-badge.svg\" alt=\"Open In Colab\"/></a>"
      ]
    },
    {
      "cell_type": "code",
      "execution_count": 1,
      "metadata": {
        "colab": {
          "base_uri": "https://localhost:8080/"
        },
        "id": "EwLdpOpvVotq",
        "outputId": "df970869-91aa-42c2-de4e-cf120f9f93ed"
      },
      "outputs": [
        {
          "output_type": "stream",
          "name": "stdout",
          "text": [
            "\n",
            "Initial DataFrame:\n",
            "   Order ID   Product  Quantity  Price\n",
            "0       101    Laptop         2  50000\n",
            "1       102     Mouse        10    800\n",
            "2       103  Keyboard         5   1500\n",
            "3       104   Monitor         3  12000\n",
            "4       105    Laptop         1  50000\n",
            "5       106     Mouse        15    800\n",
            "6       107   Monitor         2  12000\n",
            "\n",
            "DataFrame with Total Sale:\n",
            "   Order ID   Product  Quantity  Price  Total Sale\n",
            "0       101    Laptop         2  50000      100000\n",
            "1       102     Mouse        10    800        8000\n",
            "2       103  Keyboard         5   1500        7500\n",
            "3       104   Monitor         3  12000       36000\n",
            "4       105    Laptop         1  50000       50000\n",
            "5       106     Mouse        15    800       12000\n",
            "6       107   Monitor         2  12000       24000\n",
            "\n",
            "Filtered Orders (Total Sale > 1000):\n",
            "   Order ID   Product  Quantity  Price  Total Sale\n",
            "0       101    Laptop         2  50000      100000\n",
            "1       102     Mouse        10    800        8000\n",
            "2       103  Keyboard         5   1500        7500\n",
            "3       104   Monitor         3  12000       36000\n",
            "4       105    Laptop         1  50000       50000\n",
            "5       106     Mouse        15    800       12000\n",
            "6       107   Monitor         2  12000       24000\n",
            "\n",
            "Most Sold Product:\n",
            "Product\n",
            "Mouse       25\n",
            "Keyboard     5\n",
            "Monitor      5\n",
            "Laptop       3\n",
            "Name: Quantity, dtype: int64\n",
            "\n",
            "DataFrame with Discount Column:\n",
            "   Order ID   Product  Quantity  Price  Total Sale  Discount\n",
            "0       101    Laptop         2  50000      100000   10000.0\n",
            "1       102     Mouse        10    800        8000     400.0\n",
            "2       103  Keyboard         5   1500        7500     375.0\n",
            "3       104   Monitor         3  12000       36000    3600.0\n",
            "4       105    Laptop         1  50000       50000    5000.0\n",
            "5       106     Mouse        15    800       12000     600.0\n",
            "6       107   Monitor         2  12000       24000    2400.0\n",
            "\n",
            "Excel file 'sales_summary.xlsx' created successfully.\n"
          ]
        }
      ],
      "source": [
        "import pandas as pd\n",
        "\n",
        "data = {\n",
        "    'Order ID': [101, 102, 103, 104, 105, 106, 107],\n",
        "    'Product': ['Laptop', 'Mouse', 'Keyboard', 'Monitor', 'Laptop', 'Mouse', 'Monitor'],\n",
        "    'Quantity': [2, 10, 5, 3, 1, 15, 2],\n",
        "    'Price': [50000, 800, 1500, 12000, 50000, 800, 12000]\n",
        "}\n",
        "\n",
        "df = pd.DataFrame(data)\n",
        "print(\"\\nInitial DataFrame:\")\n",
        "print(df)\n",
        "\n",
        "\n",
        "df['Total Sale'] = df['Quantity'] * df['Price']\n",
        "print(\"\\nDataFrame with Total Sale:\")\n",
        "print(df)\n",
        "\n",
        "\n",
        "filtered_df = df[df['Total Sale'] > 1000]\n",
        "print(\"\\nFiltered Orders (Total Sale > 1000):\")\n",
        "print(filtered_df)\n",
        "\n",
        "\n",
        "most_sold = df.groupby('Product')['Quantity'].sum().sort_values(ascending=False)\n",
        "print(\"\\nMost Sold Product:\")\n",
        "print(most_sold)\n",
        "\n",
        "df['Discount'] = df['Total Sale'].apply(lambda x: x * 0.10 if x > 20000 else x * 0.05)\n",
        "print(\"\\nDataFrame with Discount Column:\")\n",
        "print(df)\n",
        "\n",
        "df.to_excel(\"sales_summary.xlsx\", index=False)\n",
        "print(\"\\nExcel file 'sales_summary.xlsx' created successfully.\")\n"
      ]
    }
  ]
}