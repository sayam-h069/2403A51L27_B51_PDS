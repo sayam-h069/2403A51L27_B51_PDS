{
  "nbformat": 4,
  "nbformat_minor": 0,
  "metadata": {
    "colab": {
      "provenance": [],
      "authorship_tag": "ABX9TyP1DTMBqegSZktmzl+ggnzn",
      "include_colab_link": true
    },
    "kernelspec": {
      "name": "python3",
      "display_name": "Python 3"
    },
    "language_info": {
      "name": "python"
    }
  },
  "cells": [
    {
      "cell_type": "markdown",
      "metadata": {
        "id": "view-in-github",
        "colab_type": "text"
      },
      "source": [
        "<a href=\"https://colab.research.google.com/github/sayam-h069/2403A51L27_B51_PDS/blob/main/Lab%201.1.ipynb\" target=\"_parent\"><img src=\"https://colab.research.google.com/assets/colab-badge.svg\" alt=\"Open In Colab\"/></a>"
      ]
    },
    {
      "cell_type": "code",
      "execution_count": 2,
      "metadata": {
        "colab": {
          "base_uri": "https://localhost:8080/"
        },
        "id": "CyJpKe-SY_tT",
        "outputId": "5bf8b813-8db1-4075-83aa-a7472e0cee01"
      },
      "outputs": [
        {
          "output_type": "stream",
          "name": "stdout",
          "text": [
            "Enter total number of people/items (n): 5\n",
            "Enter number of places (r): 3\n",
            "5P3 = 5! / (5 - 3)! = 60\n"
          ]
        }
      ],
      "source": [
        "def factorial(n):\n",
        "    if n == 0 or n == 1:\n",
        "        return 1\n",
        "    else:\n",
        "        return n * factorial(n - 1)\n",
        "\n",
        "def permutations(n, r):\n",
        "    return factorial(n) // factorial(n - r)\n",
        "\n",
        "n = int(input(\"Enter total number of people/items (n): \"))\n",
        "r = int(input(\"Enter number of places (r): \"))\n",
        "\n",
        "if n >= r:\n",
        "    result = permutations(n, r)\n",
        "    print(f\"{n}P{r} = {n}! / ({n} - {r})! = {result}\")\n",
        "else:\n",
        "    print(\"Invalid input: n must be greater than or equal to r.\")"
      ]
    },
    {
      "cell_type": "code",
      "source": [
        "def factorial(n):\n",
        "    if n == 0 or n == 1:\n",
        "        return 1\n",
        "    else:\n",
        "        return n * factorial(n - 1)\n",
        "\n",
        "def permutations(n, r):\n",
        "    return factorial(n) // factorial(n - r)\n",
        "\n",
        "n = int(input(\"Enter total number of people/items (n): \"))\n",
        "r = int(input(\"Enter number of places (r): \"))\n",
        "\n",
        "if n >= r:\n",
        "    result = permutations(n, r)\n",
        "    print(f\"{n}P{r} = {n}! / ({n} - {r})! = {result}\")\n",
        "else:\n",
        "    print(\"Invalid input: n must be greater than or equal to r.\")"
      ],
      "metadata": {
        "colab": {
          "base_uri": "https://localhost:8080/"
        },
        "id": "P3CNYaaYZg1_",
        "outputId": "b528bf41-78d3-4f20-8e2b-7323a373c0ab"
      },
      "execution_count": 3,
      "outputs": [
        {
          "output_type": "stream",
          "name": "stdout",
          "text": [
            "Enter total number of people/items (n): 6\n",
            "Enter number of places (r): 2\n",
            "6P2 = 6! / (6 - 2)! = 30\n"
          ]
        }
      ]
    }
  ]
}