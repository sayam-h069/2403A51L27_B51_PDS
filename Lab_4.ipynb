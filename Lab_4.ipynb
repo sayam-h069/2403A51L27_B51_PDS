{
  "nbformat": 4,
  "nbformat_minor": 0,
  "metadata": {
    "colab": {
      "provenance": [],
      "authorship_tag": "ABX9TyPkJw84xOjTNrH83JYCee5A",
      "include_colab_link": true
    },
    "kernelspec": {
      "name": "python3",
      "display_name": "Python 3"
    },
    "language_info": {
      "name": "python"
    }
  },
  "cells": [
    {
      "cell_type": "markdown",
      "metadata": {
        "id": "view-in-github",
        "colab_type": "text"
      },
      "source": [
        "<a href=\"https://colab.research.google.com/github/sayam-h069/2403A51L27_B51_PDS/blob/main/Lab_4.ipynb\" target=\"_parent\"><img src=\"https://colab.research.google.com/assets/colab-badge.svg\" alt=\"Open In Colab\"/></a>"
      ]
    },
    {
      "cell_type": "code",
      "execution_count": 1,
      "metadata": {
        "colab": {
          "base_uri": "https://localhost:8080/"
        },
        "id": "o0v1vKd-PuQF",
        "outputId": "a74618e9-b32f-4b43-c1f7-bd83a8844be4"
      },
      "outputs": [
        {
          "output_type": "stream",
          "name": "stdout",
          "text": [
            "   Student_ID  Name   Math  Science  English\n",
            "0           1  Amit  80.00     78.0     82.0\n",
            "2           3  John  81.75     88.0     79.0\n",
            "3           4  Lina  90.00     92.0     82.0\n",
            "4           5   Raj  85.00     81.0     91.0\n"
          ]
        }
      ],
      "source": [
        "#Question 1\n",
        "import pandas as pd\n",
        "import numpy as np\n",
        "\n",
        "data = {\n",
        "    \"Student_ID\": [1, 2, 3, 4, 5],\n",
        "    \"Name\": [\"Amit\", \"Sara\", \"John\", \"Lina\", \"Raj\"],\n",
        "    \"Math\": [80, 72, np.nan, 90, 85],\n",
        "    \"Science\": [78, np.nan, 88, 92, 81],\n",
        "    \"English\": [82, 76, 79, np.nan, 91]\n",
        "}\n",
        "\n",
        "df = pd.DataFrame(data)\n",
        "df.fillna(df.mean(numeric_only=True), inplace=True)\n",
        "high_achievers = df[(df['Math'] > 75) & (df['Science'] > 75) & (df['English'] > 75)]\n",
        "print(high_achievers)"
      ]
    },
    {
      "cell_type": "code",
      "source": [
        "#Question 2\n",
        "import pandas as pd\n",
        "import numpy as np\n",
        "\n",
        "data = {\n",
        "    \"Patient_ID\": [101, 102, 103, 104, 105],\n",
        "    \"Name\": [\"Anita\", \"Ravi\", \"Meena\", \"Sita\", \"Karan\"],\n",
        "    \"Age\": [65, np.nan, 54, 72, 45],\n",
        "    \"Gender\": [\"Female\", \"Male\", \"Female\", \"Female\", \"Male\"],\n",
        "    \"Diagnosis\": [\"Diabetes\", \"Hypertension\", \"Diabetes\", \"Diabetes\", \"Asthma\"],\n",
        "    \"Admission_Date\": [\"2023-01-12\", \"2023-02-18\", \"2023-03-20\", \"2023-04-05\", \"2023-05-10\"]\n",
        "}\n",
        "\n",
        "df = pd.DataFrame(data)\n",
        "\n",
        "df[\"Age\"] = df[\"Age\"].fillna(df[\"Age\"].median())\n",
        "\n",
        "elderly_females = df[(df[\"Gender\"] == \"Female\") & (df[\"Age\"] > 50) & (df[\"Diagnosis\"] == \"Diabetes\")]\n",
        "print(elderly_females)"
      ],
      "metadata": {
        "colab": {
          "base_uri": "https://localhost:8080/"
        },
        "id": "qlc5icUtP9ct",
        "outputId": "ce24737a-20b9-4d09-a897-ff3962a54366"
      },
      "execution_count": 3,
      "outputs": [
        {
          "output_type": "stream",
          "name": "stdout",
          "text": [
            "   Patient_ID   Name   Age  Gender Diagnosis Admission_Date\n",
            "0         101  Anita  65.0  Female  Diabetes     2023-01-12\n",
            "2         103  Meena  54.0  Female  Diabetes     2023-03-20\n",
            "3         104   Sita  72.0  Female  Diabetes     2023-04-05\n"
          ]
        }
      ]
    }
  ]
}