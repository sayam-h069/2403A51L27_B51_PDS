{
  "nbformat": 4,
  "nbformat_minor": 0,
  "metadata": {
    "colab": {
      "provenance": [],
      "authorship_tag": "ABX9TyP/jPvatWLooW1key3kvCD3",
      "include_colab_link": true
    },
    "kernelspec": {
      "name": "python3",
      "display_name": "Python 3"
    },
    "language_info": {
      "name": "python"
    }
  },
  "cells": [
    {
      "cell_type": "markdown",
      "metadata": {
        "id": "view-in-github",
        "colab_type": "text"
      },
      "source": [
        "<a href=\"https://colab.research.google.com/github/sayam-h069/2403A51L27_B51_PDS/blob/main/LAB_01_1.ipynb\" target=\"_parent\"><img src=\"https://colab.research.google.com/assets/colab-badge.svg\" alt=\"Open In Colab\"/></a>"
      ]
    },
    {
      "cell_type": "code",
      "execution_count": 3,
      "metadata": {
        "colab": {
          "base_uri": "https://localhost:8080/"
        },
        "id": "8uYIiMgVVV_7",
        "outputId": "aaac27a7-6fb8-44ac-acfb-5af7011bc5ef"
      },
      "outputs": [
        {
          "output_type": "stream",
          "name": "stdout",
          "text": [
            "Enter a number:5\n",
            "The factorial of 5 is 120\n"
          ]
        }
      ],
      "source": [
        "def factorial(n):\n",
        "    if n==0 or n==1:\n",
        "      return 1\n",
        "    else:\n",
        "      return n*factorial(n-1)\n",
        "number=int(input(\"Enter a number:\"))\n",
        "if number<0:\n",
        "    print(\"Factorial is not defined for negative numbers\")\n",
        "else:\n",
        "    result=factorial(number)\n",
        "    print(f\"The factorial of {number} is {result}\")"
      ]
    }
  ]
}