{
  "nbformat": 4,
  "nbformat_minor": 0,
  "metadata": {
    "colab": {
      "provenance": [],
      "authorship_tag": "ABX9TyNYv4bdwPnUtsDJG7Ri5utf",
      "include_colab_link": true
    },
    "kernelspec": {
      "name": "python3",
      "display_name": "Python 3"
    },
    "language_info": {
      "name": "python"
    }
  },
  "cells": [
    {
      "cell_type": "markdown",
      "metadata": {
        "id": "view-in-github",
        "colab_type": "text"
      },
      "source": [
        "<a href=\"https://colab.research.google.com/github/sayam-h069/2403A51L27_B51_PDS/blob/main/Lab_6.ipynb\" target=\"_parent\"><img src=\"https://colab.research.google.com/assets/colab-badge.svg\" alt=\"Open In Colab\"/></a>"
      ]
    },
    {
      "cell_type": "code",
      "execution_count": 3,
      "metadata": {
        "colab": {
          "base_uri": "https://localhost:8080/"
        },
        "id": "5xssMuK7clOO",
        "outputId": "ab387d3f-11ba-4b88-e3f4-378b2400b7c3"
      },
      "outputs": [
        {
          "output_type": "stream",
          "name": "stdout",
          "text": [
            "========================================\n",
            "Missing Values Before Cleaning:\n",
            "========================================\n",
            "survived         0\n",
            "pclass           0\n",
            "sex              0\n",
            "age            177\n",
            "sibsp            0\n",
            "parch            0\n",
            "fare             0\n",
            "embarked         2\n",
            "class            0\n",
            "who              0\n",
            "adult_male       0\n",
            "deck           688\n",
            "embark_town      2\n",
            "alive            0\n",
            "alone            0\n",
            "dtype: int64\n",
            "\n",
            "\n",
            "========================================\n",
            "Missing Values After Cleaning:\n",
            "========================================\n",
            "survived      0\n",
            "pclass        0\n",
            "sex           0\n",
            "age           0\n",
            "sibsp         0\n",
            "parch         0\n",
            "fare          0\n",
            "embarked      0\n",
            "class         0\n",
            "who           0\n",
            "adult_male    0\n",
            "alive         0\n",
            "alone         0\n",
            "dtype: int64\n",
            "\n",
            "\n",
            "========================================\n",
            "First 5 Rows of Cleaned Data:\n",
            "========================================\n",
            "   survived  pclass     sex   age  sibsp  parch     fare embarked  class  \\\n",
            "0         0       3    male  22.0      1      0   7.2500        S  Third   \n",
            "1         1       1  female  38.0      1      0  71.2833        C  First   \n",
            "2         1       3  female  26.0      0      0   7.9250        S  Third   \n",
            "3         1       1  female  35.0      1      0  53.1000        S  First   \n",
            "4         0       3    male  35.0      0      0   8.0500        S  Third   \n",
            "\n",
            "     who  adult_male alive  alone  \n",
            "0    man        True    no  False  \n",
            "1  woman       False   yes  False  \n",
            "2  woman       False   yes   True  \n",
            "3  woman       False   yes  False  \n",
            "4    man        True    no   True  \n"
          ]
        }
      ],
      "source": [
        "import pandas as pd\n",
        "import seaborn as sns\n",
        "\n",
        "df = sns.load_dataset('titanic')\n",
        "\n",
        "print(\"=\"*40)\n",
        "print(\"Missing Values Before Cleaning:\")\n",
        "print(\"=\"*40)\n",
        "print(df.isnull().sum())\n",
        "print(\"\\n\")\n",
        "\n",
        "age_mean = df['age'].mean()\n",
        "embarked_mode = df['embarked'].mode()[0]\n",
        "\n",
        "df['age'] = df['age'].fillna(age_mean)\n",
        "df['embarked'] = df['embarked'].fillna(embarked_mode)\n",
        "\n",
        "df.drop(['deck', 'embark_town'], axis=1, inplace=True)\n",
        "\n",
        "print(\"=\"*40)\n",
        "print(\"Missing Values After Cleaning:\")\n",
        "print(\"=\"*40)\n",
        "print(df.isnull().sum())\n",
        "print(\"\\n\")\n",
        "\n",
        "print(\"=\"*40)\n",
        "print(\"First 5 Rows of Cleaned Data:\")\n",
        "print(\"=\"*40)\n",
        "print(df.head())"
      ]
    },
    {
      "cell_type": "code",
      "source": [
        "#Question 2\n",
        "import pandas as pd\n",
        "\n",
        "data = {\n",
        "    'StudentID': [101, 102, 103, 104, 105, 106, 107, 108],\n",
        "    'Name': ['Alice', 'Bob', 'Charlie', 'Diana', 'Evan', 'Fiona', 'George', 'Hannah'],\n",
        "    'Gender': ['Female', 'M', 'male', 'F', 'Male', 'female', 'male', 'Female']\n",
        "}\n",
        "df = pd.DataFrame(data)\n",
        "\n",
        "print(\"=\"*35)\n",
        "print(\"Categories Before Standardization:\")\n",
        "print(\"=\"*35)\n",
        "print(df['Gender'].value_counts())\n",
        "print(\"\\n\")\n",
        "\n",
        "gender_map = {\n",
        "    'M': 'Male',\n",
        "    'male': 'Male',\n",
        "    'Male': 'Male',\n",
        "    'F': 'Female',\n",
        "    'female': 'Female',\n",
        "    'Female': 'Female'\n",
        "}\n",
        "\n",
        "df['Gender'] = df['Gender'].replace(gender_map)\n",
        "\n",
        "print(\"=\"*35)\n",
        "print(\"Categories After Standardization:\")\n",
        "print(\"=\"*35)\n",
        "print(df['Gender'].value_counts())\n",
        "print(\"\\n\")\n",
        "\n",
        "print(\"=\"*35)\n",
        "print(\"Cleaned DataFrame:\")\n",
        "print(\"=\"*35)\n",
        "print(df)"
      ],
      "metadata": {
        "colab": {
          "base_uri": "https://localhost:8080/"
        },
        "id": "WXwvXNAhcxtN",
        "outputId": "58b42e20-7649-474b-ccda-24e6a6f775c8"
      },
      "execution_count": 1,
      "outputs": [
        {
          "output_type": "stream",
          "name": "stdout",
          "text": [
            "===================================\n",
            "Categories Before Standardization:\n",
            "===================================\n",
            "Gender\n",
            "Female    2\n",
            "male      2\n",
            "M         1\n",
            "F         1\n",
            "Male      1\n",
            "female    1\n",
            "Name: count, dtype: int64\n",
            "\n",
            "\n",
            "===================================\n",
            "Categories After Standardization:\n",
            "===================================\n",
            "Gender\n",
            "Female    4\n",
            "Male      4\n",
            "Name: count, dtype: int64\n",
            "\n",
            "\n",
            "===================================\n",
            "Cleaned DataFrame:\n",
            "===================================\n",
            "   StudentID     Name  Gender\n",
            "0        101    Alice  Female\n",
            "1        102      Bob    Male\n",
            "2        103  Charlie    Male\n",
            "3        104    Diana  Female\n",
            "4        105     Evan    Male\n",
            "5        106    Fiona  Female\n",
            "6        107   George    Male\n",
            "7        108   Hannah  Female\n"
          ]
        }
      ]
    }
  ]
}