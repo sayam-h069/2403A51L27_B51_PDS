{
  "nbformat": 4,
  "nbformat_minor": 0,
  "metadata": {
    "colab": {
      "provenance": [],
      "authorship_tag": "ABX9TyPcq5lJKKFvrF1fqaWkG9MZ",
      "include_colab_link": true
    },
    "kernelspec": {
      "name": "python3",
      "display_name": "Python 3"
    },
    "language_info": {
      "name": "python"
    }
  },
  "cells": [
    {
      "cell_type": "markdown",
      "metadata": {
        "id": "view-in-github",
        "colab_type": "text"
      },
      "source": [
        "<a href=\"https://colab.research.google.com/github/sayam-h069/2403A51L27_B51_PDS/blob/main/Lab_3.ipynb\" target=\"_parent\"><img src=\"https://colab.research.google.com/assets/colab-badge.svg\" alt=\"Open In Colab\"/></a>"
      ]
    },
    {
      "cell_type": "code",
      "execution_count": 2,
      "metadata": {
        "colab": {
          "base_uri": "https://localhost:8080/"
        },
        "id": "BaaljQgjiRgI",
        "outputId": "93b84c4c-d316-422d-91ca-c2723dbdfc98"
      },
      "outputs": [
        {
          "output_type": "stream",
          "name": "stdout",
          "text": [
            "Matrix A:\n",
            " [[ 1  1  1]\n",
            " [ 1  5 10]\n",
            " [ 5  6  6]]\n",
            "\n",
            "Matrix B:\n",
            " [[1 8 7]\n",
            " [2 3 8]\n",
            " [3 9 6]]\n",
            "\n",
            "A + B:\n",
            " [[ 2  9  8]\n",
            " [ 3  8 18]\n",
            " [ 8 15 12]]\n",
            "\n",
            "A - B:\n",
            " [[ 0 -7 -6]\n",
            " [-1  2  2]\n",
            " [ 2 -3  0]]\n",
            "\n",
            "Verification for element [0,0]:\n",
            "A[0,0] = 1, B[0,0] = 1\n",
            "Addition: 1 + 1 = 2\n",
            "Subtraction: 1 - 1 = 0\n",
            "\n",
            "Note: Broadcasting is not used here since both matrices are of the same shape (3x3).\n"
          ]
        }
      ],
      "source": [
        "# Question 1\n",
        "import numpy as np\n",
        "\n",
        "A = np.random.randint(1, 11, size=(3, 3))\n",
        "B = np.random.randint(1, 11, size=(3, 3))\n",
        "\n",
        "add_result = np.add(A, B)\n",
        "sub_result = np.subtract(A, B)\n",
        "\n",
        "print(\"Matrix A:\\n\", A)\n",
        "print(\"\\nMatrix B:\\n\", B)\n",
        "print(\"\\nA + B:\\n\", add_result)\n",
        "print(\"\\nA - B:\\n\", sub_result)\n",
        "\n",
        "print(\"\\nVerification for element [0,0]:\")\n",
        "print(f\"A[0,0] = {A[0,0]}, B[0,0] = {B[0,0]}\")\n",
        "print(f\"Addition: {A[0,0]} + {B[0,0]} = {add_result[0,0]}\")\n",
        "print(f\"Subtraction: {A[0,0]} - {B[0,0]} = {sub_result[0,0]}\")\n",
        "\n",
        "print(\"\\nNote: Broadcasting is not used here since both matrices are of the same shape (3x3).\")"
      ]
    },
    {
      "cell_type": "code",
      "source": [
        "#Question 2\n",
        "import numpy as np\n",
        "\n",
        "A = np.random.randint(1, 10, size=(3, 2))\n",
        "B = np.random.randint(1, 10, size=(2, 3))\n",
        "\n",
        "result = np.dot(A, B)\n",
        "\n",
        "print(\"Matrix A (3x2):\\n\", A)\n",
        "print(\"\\nMatrix B (2x3):\\n\", B)\n",
        "print(\"\\nDot Product (A @ B):\\n\", result)\n",
        "\n",
        "print(\"\\nVerification for element [0,0]:\")\n",
        "calc = A[0,0]*B[0,0] + A[0,1]*B[1,0]\n",
        "print(f\"Manual: {A[0,0]}*{B[0,0]} + {A[0,1]}*{B[1,0]} = {calc}\")\n",
        "print(f\"Dot Product Result[0,0] = {result[0,0]}\")\n",
        "\n",
        "transformation = np.array([[1, 0, 1],\n",
        "                           [0, 1, 1],\n",
        "                           [0, 0, 1]])\n",
        "image_vector = np.array([[2, 3, 1]]).T\n",
        "transformed = np.dot(transformation, image_vector)\n",
        "\n",
        "print(\"\\nTransformation Matrix:\\n\", transformation)\n",
        "print(\"\\nImage Vector:\\n\", image_vector)\n",
        "print(\"\\nTransformed Vector:\\n\", transformed)"
      ],
      "metadata": {
        "colab": {
          "base_uri": "https://localhost:8080/"
        },
        "id": "drKYo3Wejpq8",
        "outputId": "bff21b6f-3908-4c1d-ea72-fcda19000678"
      },
      "execution_count": 3,
      "outputs": [
        {
          "output_type": "stream",
          "name": "stdout",
          "text": [
            "Matrix A (3x2):\n",
            " [[6 6]\n",
            " [6 9]\n",
            " [7 2]]\n",
            "\n",
            "Matrix B (2x3):\n",
            " [[1 8 2]\n",
            " [4 6 2]]\n",
            "\n",
            "Dot Product (A @ B):\n",
            " [[ 30  84  24]\n",
            " [ 42 102  30]\n",
            " [ 15  68  18]]\n",
            "\n",
            "Verification for element [0,0]:\n",
            "Manual: 6*1 + 6*4 = 30\n",
            "Dot Product Result[0,0] = 30\n",
            "\n",
            "Transformation Matrix:\n",
            " [[1 0 1]\n",
            " [0 1 1]\n",
            " [0 0 1]]\n",
            "\n",
            "Image Vector:\n",
            " [[2]\n",
            " [3]\n",
            " [1]]\n",
            "\n",
            "Transformed Vector:\n",
            " [[3]\n",
            " [4]\n",
            " [1]]\n"
          ]
        }
      ]
    }
  ]
}